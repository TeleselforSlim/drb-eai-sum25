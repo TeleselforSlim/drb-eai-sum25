{
 "cells": [
  {
   "cell_type": "markdown",
   "id": "8b7c4036",
   "metadata": {},
   "source": [
    "## Tasks"
   ]
  },
  {
   "cell_type": "code",
   "execution_count": 2,
   "id": "d203eba4",
   "metadata": {},
   "outputs": [],
   "source": [
    "import pandas as pd"
   ]
  },
  {
   "cell_type": "markdown",
   "id": "91f55f29",
   "metadata": {},
   "source": [
    "1. Load the the dataset located at `dataset/student-por.csv` as a `pandas` dataframe."
   ]
  },
  {
   "cell_type": "code",
   "execution_count": 5,
   "id": "cf6f69cf",
   "metadata": {},
   "outputs": [],
   "source": [
    "dataset_orig = pd.read_csv(\"dataset/student-por.csv\", delimiter=';')"
   ]
  },
  {
   "cell_type": "code",
   "execution_count": 7,
   "id": "c106512c",
   "metadata": {},
   "outputs": [
    {
     "data": {
      "text/plain": [
       "Index(['school', 'sex', 'age', 'address', 'famsize', 'Pstatus', 'Medu', 'Fedu',\n",
       "       'Mjob', 'Fjob', 'reason', 'guardian', 'traveltime', 'studytime',\n",
       "       'failures', 'schoolsup', 'famsup', 'paid', 'activities', 'nursery',\n",
       "       'higher', 'internet', 'romantic', 'famrel', 'freetime', 'goout', 'Dalc',\n",
       "       'Walc', 'health', 'absences', 'G1', 'G2', 'G3'],\n",
       "      dtype='object')"
      ]
     },
     "execution_count": 7,
     "metadata": {},
     "output_type": "execute_result"
    }
   ],
   "source": [
    "dataset_orig.columns"
   ]
  },
  {
   "cell_type": "code",
   "execution_count": 8,
   "id": "17aaa01e",
   "metadata": {},
   "outputs": [
    {
     "data": {
      "application/vnd.microsoft.datawrangler.viewer.v0+json": {
       "columns": [
        {
         "name": "index",
         "rawType": "int64",
         "type": "integer"
        },
        {
         "name": "sex",
         "rawType": "object",
         "type": "string"
        }
       ],
       "ref": "c1347091-0898-4f80-a3f3-774da24fd6e3",
       "rows": [
        [
         "0",
         "F"
        ],
        [
         "1",
         "F"
        ],
        [
         "2",
         "F"
        ],
        [
         "3",
         "F"
        ],
        [
         "4",
         "F"
        ],
        [
         "5",
         "M"
        ],
        [
         "6",
         "M"
        ],
        [
         "7",
         "F"
        ],
        [
         "8",
         "M"
        ],
        [
         "9",
         "M"
        ],
        [
         "10",
         "F"
        ],
        [
         "11",
         "F"
        ],
        [
         "12",
         "M"
        ],
        [
         "13",
         "M"
        ],
        [
         "14",
         "M"
        ],
        [
         "15",
         "F"
        ],
        [
         "16",
         "F"
        ],
        [
         "17",
         "F"
        ],
        [
         "18",
         "M"
        ],
        [
         "19",
         "M"
        ],
        [
         "20",
         "M"
        ],
        [
         "21",
         "M"
        ],
        [
         "22",
         "M"
        ],
        [
         "23",
         "M"
        ],
        [
         "24",
         "F"
        ],
        [
         "25",
         "F"
        ],
        [
         "26",
         "M"
        ],
        [
         "27",
         "M"
        ],
        [
         "28",
         "M"
        ],
        [
         "29",
         "M"
        ],
        [
         "30",
         "M"
        ],
        [
         "31",
         "M"
        ],
        [
         "32",
         "M"
        ],
        [
         "33",
         "M"
        ],
        [
         "34",
         "M"
        ],
        [
         "35",
         "F"
        ],
        [
         "36",
         "M"
        ],
        [
         "37",
         "M"
        ],
        [
         "38",
         "F"
        ],
        [
         "39",
         "F"
        ],
        [
         "40",
         "F"
        ],
        [
         "41",
         "M"
        ],
        [
         "42",
         "M"
        ],
        [
         "43",
         "M"
        ],
        [
         "44",
         "F"
        ],
        [
         "45",
         "F"
        ],
        [
         "46",
         "F"
        ],
        [
         "47",
         "M"
        ],
        [
         "48",
         "M"
        ],
        [
         "49",
         "F"
        ]
       ],
       "shape": {
        "columns": 1,
        "rows": 649
       }
      },
      "text/plain": [
       "0      F\n",
       "1      F\n",
       "2      F\n",
       "3      F\n",
       "4      F\n",
       "      ..\n",
       "644    F\n",
       "645    F\n",
       "646    F\n",
       "647    M\n",
       "648    M\n",
       "Name: sex, Length: 649, dtype: object"
      ]
     },
     "execution_count": 8,
     "metadata": {},
     "output_type": "execute_result"
    }
   ],
   "source": [
    "dataset_orig['sex']"
   ]
  },
  {
   "cell_type": "code",
   "execution_count": 9,
   "id": "4b873929",
   "metadata": {},
   "outputs": [],
   "source": [
    "#protected class\n",
    "dataset_orig['sex'] = dataset_orig['sex'].map({'F': 0, 'M': 1})  # Map 'F' to 0 and 'M' to 1\n",
    "\n"
   ]
  },
  {
   "cell_type": "code",
   "execution_count": 10,
   "id": "924c7312",
   "metadata": {},
   "outputs": [
    {
     "data": {
      "application/vnd.microsoft.datawrangler.viewer.v0+json": {
       "columns": [
        {
         "name": "index",
         "rawType": "int64",
         "type": "integer"
        },
        {
         "name": "sex",
         "rawType": "int64",
         "type": "integer"
        }
       ],
       "ref": "1d744a91-a6df-4a83-9a2b-0e25ade0d152",
       "rows": [
        [
         "0",
         "0"
        ],
        [
         "1",
         "0"
        ],
        [
         "2",
         "0"
        ],
        [
         "3",
         "0"
        ],
        [
         "4",
         "0"
        ],
        [
         "5",
         "1"
        ],
        [
         "6",
         "1"
        ],
        [
         "7",
         "0"
        ],
        [
         "8",
         "1"
        ],
        [
         "9",
         "1"
        ],
        [
         "10",
         "0"
        ],
        [
         "11",
         "0"
        ],
        [
         "12",
         "1"
        ],
        [
         "13",
         "1"
        ],
        [
         "14",
         "1"
        ],
        [
         "15",
         "0"
        ],
        [
         "16",
         "0"
        ],
        [
         "17",
         "0"
        ],
        [
         "18",
         "1"
        ],
        [
         "19",
         "1"
        ],
        [
         "20",
         "1"
        ],
        [
         "21",
         "1"
        ],
        [
         "22",
         "1"
        ],
        [
         "23",
         "1"
        ],
        [
         "24",
         "0"
        ],
        [
         "25",
         "0"
        ],
        [
         "26",
         "1"
        ],
        [
         "27",
         "1"
        ],
        [
         "28",
         "1"
        ],
        [
         "29",
         "1"
        ],
        [
         "30",
         "1"
        ],
        [
         "31",
         "1"
        ],
        [
         "32",
         "1"
        ],
        [
         "33",
         "1"
        ],
        [
         "34",
         "1"
        ],
        [
         "35",
         "0"
        ],
        [
         "36",
         "1"
        ],
        [
         "37",
         "1"
        ],
        [
         "38",
         "0"
        ],
        [
         "39",
         "0"
        ],
        [
         "40",
         "0"
        ],
        [
         "41",
         "1"
        ],
        [
         "42",
         "1"
        ],
        [
         "43",
         "1"
        ],
        [
         "44",
         "0"
        ],
        [
         "45",
         "0"
        ],
        [
         "46",
         "0"
        ],
        [
         "47",
         "1"
        ],
        [
         "48",
         "1"
        ],
        [
         "49",
         "0"
        ]
       ],
       "shape": {
        "columns": 1,
        "rows": 649
       }
      },
      "text/plain": [
       "0      0\n",
       "1      0\n",
       "2      0\n",
       "3      0\n",
       "4      0\n",
       "      ..\n",
       "644    0\n",
       "645    0\n",
       "646    0\n",
       "647    1\n",
       "648    1\n",
       "Name: sex, Length: 649, dtype: int64"
      ]
     },
     "execution_count": 10,
     "metadata": {},
     "output_type": "execute_result"
    }
   ],
   "source": [
    "dataset_orig['sex']"
   ]
  },
  {
   "cell_type": "code",
   "execution_count": 12,
   "id": "e73c23f2",
   "metadata": {},
   "outputs": [
    {
     "data": {
      "application/vnd.microsoft.datawrangler.viewer.v0+json": {
       "columns": [
        {
         "name": "index",
         "rawType": "object",
         "type": "string"
        },
        {
         "name": "G1",
         "rawType": "float64",
         "type": "float"
        }
       ],
       "ref": "5ebd15ab-fdc9-48e5-aea8-5eb774a0b26d",
       "rows": [
        [
         "count",
         "649.0"
        ],
        [
         "mean",
         "11.399075500770415"
        ],
        [
         "std",
         "2.745265128446372"
        ],
        [
         "min",
         "0.0"
        ],
        [
         "25%",
         "10.0"
        ],
        [
         "50%",
         "11.0"
        ],
        [
         "75%",
         "13.0"
        ],
        [
         "max",
         "19.0"
        ]
       ],
       "shape": {
        "columns": 1,
        "rows": 8
       }
      },
      "text/plain": [
       "count    649.000000\n",
       "mean      11.399076\n",
       "std        2.745265\n",
       "min        0.000000\n",
       "25%       10.000000\n",
       "50%       11.000000\n",
       "75%       13.000000\n",
       "max       19.000000\n",
       "Name: G1, dtype: float64"
      ]
     },
     "execution_count": 12,
     "metadata": {},
     "output_type": "execute_result"
    }
   ],
   "source": [
    "dataset_orig['G1'].describe()"
   ]
  },
  {
   "cell_type": "code",
   "execution_count": 13,
   "id": "4bc5d011",
   "metadata": {},
   "outputs": [
    {
     "data": {
      "application/vnd.microsoft.datawrangler.viewer.v0+json": {
       "columns": [
        {
         "name": "index",
         "rawType": "int64",
         "type": "integer"
        },
        {
         "name": "G1",
         "rawType": "int64",
         "type": "integer"
        }
       ],
       "ref": "63a931da-f607-4a00-9b6a-3b17ec7f2ff2",
       "rows": [
        [
         "0",
         "0"
        ],
        [
         "1",
         "9"
        ],
        [
         "2",
         "12"
        ],
        [
         "3",
         "14"
        ],
        [
         "4",
         "11"
        ],
        [
         "5",
         "12"
        ],
        [
         "6",
         "13"
        ],
        [
         "7",
         "10"
        ],
        [
         "8",
         "15"
        ],
        [
         "9",
         "12"
        ],
        [
         "10",
         "14"
        ],
        [
         "11",
         "10"
        ],
        [
         "12",
         "12"
        ],
        [
         "13",
         "12"
        ],
        [
         "14",
         "14"
        ],
        [
         "15",
         "17"
        ],
        [
         "16",
         "13"
        ],
        [
         "17",
         "13"
        ],
        [
         "18",
         "8"
        ],
        [
         "19",
         "12"
        ],
        [
         "20",
         "12"
        ],
        [
         "21",
         "11"
        ],
        [
         "22",
         "12"
        ],
        [
         "23",
         "10"
        ],
        [
         "24",
         "10"
        ],
        [
         "25",
         "10"
        ],
        [
         "26",
         "11"
        ],
        [
         "27",
         "11"
        ],
        [
         "28",
         "12"
        ],
        [
         "29",
         "12"
        ],
        [
         "30",
         "10"
        ],
        [
         "31",
         "15"
        ],
        [
         "32",
         "13"
        ],
        [
         "33",
         "13"
        ],
        [
         "34",
         "12"
        ],
        [
         "35",
         "11"
        ],
        [
         "36",
         "14"
        ],
        [
         "37",
         "13"
        ],
        [
         "38",
         "11"
        ],
        [
         "39",
         "14"
        ],
        [
         "40",
         "11"
        ],
        [
         "41",
         "10"
        ],
        [
         "42",
         "14"
        ],
        [
         "43",
         "9"
        ],
        [
         "44",
         "10"
        ],
        [
         "45",
         "10"
        ],
        [
         "46",
         "13"
        ],
        [
         "47",
         "17"
        ],
        [
         "48",
         "11"
        ],
        [
         "49",
         "13"
        ]
       ],
       "shape": {
        "columns": 1,
        "rows": 649
       }
      },
      "text/plain": [
       "0       0\n",
       "1       9\n",
       "2      12\n",
       "3      14\n",
       "4      11\n",
       "       ..\n",
       "644    10\n",
       "645    15\n",
       "646    11\n",
       "647    10\n",
       "648    10\n",
       "Name: G1, Length: 649, dtype: int64"
      ]
     },
     "execution_count": 13,
     "metadata": {},
     "output_type": "execute_result"
    }
   ],
   "source": [
    "dataset_orig['G1']"
   ]
  },
  {
   "cell_type": "code",
   "execution_count": null,
   "id": "cf23ab57",
   "metadata": {},
   "outputs": [],
   "source": []
  },
  {
   "cell_type": "code",
   "execution_count": 14,
   "id": "62ded96a",
   "metadata": {},
   "outputs": [],
   "source": [
    "# Convert 'G1' column to binary labels\n",
    "dataset_orig['G1'] = dataset_orig['G1'].apply(lambda x: 1 if x >= 12 else 0)\n",
    "\n"
   ]
  },
  {
   "cell_type": "code",
   "execution_count": 15,
   "id": "a73cc21d",
   "metadata": {},
   "outputs": [
    {
     "data": {
      "application/vnd.microsoft.datawrangler.viewer.v0+json": {
       "columns": [
        {
         "name": "index",
         "rawType": "int64",
         "type": "integer"
        },
        {
         "name": "G1",
         "rawType": "int64",
         "type": "integer"
        }
       ],
       "ref": "84972603-e08d-4ad3-abab-f98da4fe5e1c",
       "rows": [
        [
         "0",
         "0"
        ],
        [
         "1",
         "0"
        ],
        [
         "2",
         "1"
        ],
        [
         "3",
         "1"
        ],
        [
         "4",
         "0"
        ],
        [
         "5",
         "1"
        ],
        [
         "6",
         "1"
        ],
        [
         "7",
         "0"
        ],
        [
         "8",
         "1"
        ],
        [
         "9",
         "1"
        ],
        [
         "10",
         "1"
        ],
        [
         "11",
         "0"
        ],
        [
         "12",
         "1"
        ],
        [
         "13",
         "1"
        ],
        [
         "14",
         "1"
        ],
        [
         "15",
         "1"
        ],
        [
         "16",
         "1"
        ],
        [
         "17",
         "1"
        ],
        [
         "18",
         "0"
        ],
        [
         "19",
         "1"
        ],
        [
         "20",
         "1"
        ],
        [
         "21",
         "0"
        ],
        [
         "22",
         "1"
        ],
        [
         "23",
         "0"
        ],
        [
         "24",
         "0"
        ],
        [
         "25",
         "0"
        ],
        [
         "26",
         "0"
        ],
        [
         "27",
         "0"
        ],
        [
         "28",
         "1"
        ],
        [
         "29",
         "1"
        ],
        [
         "30",
         "0"
        ],
        [
         "31",
         "1"
        ],
        [
         "32",
         "1"
        ],
        [
         "33",
         "1"
        ],
        [
         "34",
         "1"
        ],
        [
         "35",
         "0"
        ],
        [
         "36",
         "1"
        ],
        [
         "37",
         "1"
        ],
        [
         "38",
         "0"
        ],
        [
         "39",
         "1"
        ],
        [
         "40",
         "0"
        ],
        [
         "41",
         "0"
        ],
        [
         "42",
         "1"
        ],
        [
         "43",
         "0"
        ],
        [
         "44",
         "0"
        ],
        [
         "45",
         "0"
        ],
        [
         "46",
         "1"
        ],
        [
         "47",
         "1"
        ],
        [
         "48",
         "0"
        ],
        [
         "49",
         "1"
        ]
       ],
       "shape": {
        "columns": 1,
        "rows": 649
       }
      },
      "text/plain": [
       "0      0\n",
       "1      0\n",
       "2      1\n",
       "3      1\n",
       "4      0\n",
       "      ..\n",
       "644    0\n",
       "645    1\n",
       "646    0\n",
       "647    0\n",
       "648    0\n",
       "Name: G1, Length: 649, dtype: int64"
      ]
     },
     "execution_count": 15,
     "metadata": {},
     "output_type": "execute_result"
    }
   ],
   "source": [
    "dataset_orig['G1']"
   ]
  },
  {
   "cell_type": "code",
   "execution_count": 16,
   "id": "5b38d215",
   "metadata": {},
   "outputs": [],
   "source": [
    "# One-hot encode categorical features\n",
    "categorical_features = ['school', 'address', 'famsize', 'Pstatus', 'Mjob', 'Fjob', 'reason', 'guardian',\n",
    "                        'schoolsup', 'famsup', 'paid', 'activities', 'nursery', 'higher', 'internet', \n",
    "                        'romantic']\n"
   ]
  },
  {
   "cell_type": "code",
   "execution_count": 18,
   "id": "c356ff79",
   "metadata": {},
   "outputs": [
    {
     "data": {
      "application/vnd.microsoft.datawrangler.viewer.v0+json": {
       "columns": [
        {
         "name": "index",
         "rawType": "int64",
         "type": "integer"
        },
        {
         "name": "school",
         "rawType": "object",
         "type": "string"
        },
        {
         "name": "sex",
         "rawType": "int64",
         "type": "integer"
        },
        {
         "name": "age",
         "rawType": "int64",
         "type": "integer"
        },
        {
         "name": "address",
         "rawType": "object",
         "type": "string"
        },
        {
         "name": "famsize",
         "rawType": "object",
         "type": "string"
        },
        {
         "name": "Pstatus",
         "rawType": "object",
         "type": "string"
        },
        {
         "name": "Medu",
         "rawType": "int64",
         "type": "integer"
        },
        {
         "name": "Fedu",
         "rawType": "int64",
         "type": "integer"
        },
        {
         "name": "Mjob",
         "rawType": "object",
         "type": "string"
        },
        {
         "name": "Fjob",
         "rawType": "object",
         "type": "string"
        },
        {
         "name": "reason",
         "rawType": "object",
         "type": "string"
        },
        {
         "name": "guardian",
         "rawType": "object",
         "type": "string"
        },
        {
         "name": "traveltime",
         "rawType": "int64",
         "type": "integer"
        },
        {
         "name": "studytime",
         "rawType": "int64",
         "type": "integer"
        },
        {
         "name": "failures",
         "rawType": "int64",
         "type": "integer"
        },
        {
         "name": "schoolsup",
         "rawType": "object",
         "type": "string"
        },
        {
         "name": "famsup",
         "rawType": "object",
         "type": "string"
        },
        {
         "name": "paid",
         "rawType": "object",
         "type": "string"
        },
        {
         "name": "activities",
         "rawType": "object",
         "type": "string"
        },
        {
         "name": "nursery",
         "rawType": "object",
         "type": "string"
        },
        {
         "name": "higher",
         "rawType": "object",
         "type": "string"
        },
        {
         "name": "internet",
         "rawType": "object",
         "type": "string"
        },
        {
         "name": "romantic",
         "rawType": "object",
         "type": "string"
        },
        {
         "name": "famrel",
         "rawType": "int64",
         "type": "integer"
        },
        {
         "name": "freetime",
         "rawType": "int64",
         "type": "integer"
        },
        {
         "name": "goout",
         "rawType": "int64",
         "type": "integer"
        },
        {
         "name": "Dalc",
         "rawType": "int64",
         "type": "integer"
        },
        {
         "name": "Walc",
         "rawType": "int64",
         "type": "integer"
        },
        {
         "name": "health",
         "rawType": "int64",
         "type": "integer"
        },
        {
         "name": "absences",
         "rawType": "int64",
         "type": "integer"
        },
        {
         "name": "G1",
         "rawType": "int64",
         "type": "integer"
        },
        {
         "name": "G2",
         "rawType": "int64",
         "type": "integer"
        },
        {
         "name": "G3",
         "rawType": "int64",
         "type": "integer"
        }
       ],
       "ref": "d3fefaba-7d8e-4c19-a93e-5571ded19a02",
       "rows": [
        [
         "0",
         "GP",
         "0",
         "18",
         "U",
         "GT3",
         "A",
         "4",
         "4",
         "at_home",
         "teacher",
         "course",
         "mother",
         "2",
         "2",
         "0",
         "yes",
         "no",
         "no",
         "no",
         "yes",
         "yes",
         "no",
         "no",
         "4",
         "3",
         "4",
         "1",
         "1",
         "3",
         "4",
         "0",
         "11",
         "11"
        ],
        [
         "1",
         "GP",
         "0",
         "17",
         "U",
         "GT3",
         "T",
         "1",
         "1",
         "at_home",
         "other",
         "course",
         "father",
         "1",
         "2",
         "0",
         "no",
         "yes",
         "no",
         "no",
         "no",
         "yes",
         "yes",
         "no",
         "5",
         "3",
         "3",
         "1",
         "1",
         "3",
         "2",
         "0",
         "11",
         "11"
        ],
        [
         "2",
         "GP",
         "0",
         "15",
         "U",
         "LE3",
         "T",
         "1",
         "1",
         "at_home",
         "other",
         "other",
         "mother",
         "1",
         "2",
         "0",
         "yes",
         "no",
         "no",
         "no",
         "yes",
         "yes",
         "yes",
         "no",
         "4",
         "3",
         "2",
         "2",
         "3",
         "3",
         "6",
         "1",
         "13",
         "12"
        ],
        [
         "3",
         "GP",
         "0",
         "15",
         "U",
         "GT3",
         "T",
         "4",
         "2",
         "health",
         "services",
         "home",
         "mother",
         "1",
         "3",
         "0",
         "no",
         "yes",
         "no",
         "yes",
         "yes",
         "yes",
         "yes",
         "yes",
         "3",
         "2",
         "2",
         "1",
         "1",
         "5",
         "0",
         "1",
         "14",
         "14"
        ],
        [
         "4",
         "GP",
         "0",
         "16",
         "U",
         "GT3",
         "T",
         "3",
         "3",
         "other",
         "other",
         "home",
         "father",
         "1",
         "2",
         "0",
         "no",
         "yes",
         "no",
         "no",
         "yes",
         "yes",
         "no",
         "no",
         "4",
         "3",
         "2",
         "1",
         "2",
         "5",
         "0",
         "0",
         "13",
         "13"
        ],
        [
         "5",
         "GP",
         "1",
         "16",
         "U",
         "LE3",
         "T",
         "4",
         "3",
         "services",
         "other",
         "reputation",
         "mother",
         "1",
         "2",
         "0",
         "no",
         "yes",
         "no",
         "yes",
         "yes",
         "yes",
         "yes",
         "no",
         "5",
         "4",
         "2",
         "1",
         "2",
         "5",
         "6",
         "1",
         "12",
         "13"
        ]
       ],
       "shape": {
        "columns": 33,
        "rows": 6
       }
      },
      "text/html": [
       "<div>\n",
       "<style scoped>\n",
       "    .dataframe tbody tr th:only-of-type {\n",
       "        vertical-align: middle;\n",
       "    }\n",
       "\n",
       "    .dataframe tbody tr th {\n",
       "        vertical-align: top;\n",
       "    }\n",
       "\n",
       "    .dataframe thead th {\n",
       "        text-align: right;\n",
       "    }\n",
       "</style>\n",
       "<table border=\"1\" class=\"dataframe\">\n",
       "  <thead>\n",
       "    <tr style=\"text-align: right;\">\n",
       "      <th></th>\n",
       "      <th>school</th>\n",
       "      <th>sex</th>\n",
       "      <th>age</th>\n",
       "      <th>address</th>\n",
       "      <th>famsize</th>\n",
       "      <th>Pstatus</th>\n",
       "      <th>Medu</th>\n",
       "      <th>Fedu</th>\n",
       "      <th>Mjob</th>\n",
       "      <th>Fjob</th>\n",
       "      <th>...</th>\n",
       "      <th>famrel</th>\n",
       "      <th>freetime</th>\n",
       "      <th>goout</th>\n",
       "      <th>Dalc</th>\n",
       "      <th>Walc</th>\n",
       "      <th>health</th>\n",
       "      <th>absences</th>\n",
       "      <th>G1</th>\n",
       "      <th>G2</th>\n",
       "      <th>G3</th>\n",
       "    </tr>\n",
       "  </thead>\n",
       "  <tbody>\n",
       "    <tr>\n",
       "      <th>0</th>\n",
       "      <td>GP</td>\n",
       "      <td>0</td>\n",
       "      <td>18</td>\n",
       "      <td>U</td>\n",
       "      <td>GT3</td>\n",
       "      <td>A</td>\n",
       "      <td>4</td>\n",
       "      <td>4</td>\n",
       "      <td>at_home</td>\n",
       "      <td>teacher</td>\n",
       "      <td>...</td>\n",
       "      <td>4</td>\n",
       "      <td>3</td>\n",
       "      <td>4</td>\n",
       "      <td>1</td>\n",
       "      <td>1</td>\n",
       "      <td>3</td>\n",
       "      <td>4</td>\n",
       "      <td>0</td>\n",
       "      <td>11</td>\n",
       "      <td>11</td>\n",
       "    </tr>\n",
       "    <tr>\n",
       "      <th>1</th>\n",
       "      <td>GP</td>\n",
       "      <td>0</td>\n",
       "      <td>17</td>\n",
       "      <td>U</td>\n",
       "      <td>GT3</td>\n",
       "      <td>T</td>\n",
       "      <td>1</td>\n",
       "      <td>1</td>\n",
       "      <td>at_home</td>\n",
       "      <td>other</td>\n",
       "      <td>...</td>\n",
       "      <td>5</td>\n",
       "      <td>3</td>\n",
       "      <td>3</td>\n",
       "      <td>1</td>\n",
       "      <td>1</td>\n",
       "      <td>3</td>\n",
       "      <td>2</td>\n",
       "      <td>0</td>\n",
       "      <td>11</td>\n",
       "      <td>11</td>\n",
       "    </tr>\n",
       "    <tr>\n",
       "      <th>2</th>\n",
       "      <td>GP</td>\n",
       "      <td>0</td>\n",
       "      <td>15</td>\n",
       "      <td>U</td>\n",
       "      <td>LE3</td>\n",
       "      <td>T</td>\n",
       "      <td>1</td>\n",
       "      <td>1</td>\n",
       "      <td>at_home</td>\n",
       "      <td>other</td>\n",
       "      <td>...</td>\n",
       "      <td>4</td>\n",
       "      <td>3</td>\n",
       "      <td>2</td>\n",
       "      <td>2</td>\n",
       "      <td>3</td>\n",
       "      <td>3</td>\n",
       "      <td>6</td>\n",
       "      <td>1</td>\n",
       "      <td>13</td>\n",
       "      <td>12</td>\n",
       "    </tr>\n",
       "    <tr>\n",
       "      <th>3</th>\n",
       "      <td>GP</td>\n",
       "      <td>0</td>\n",
       "      <td>15</td>\n",
       "      <td>U</td>\n",
       "      <td>GT3</td>\n",
       "      <td>T</td>\n",
       "      <td>4</td>\n",
       "      <td>2</td>\n",
       "      <td>health</td>\n",
       "      <td>services</td>\n",
       "      <td>...</td>\n",
       "      <td>3</td>\n",
       "      <td>2</td>\n",
       "      <td>2</td>\n",
       "      <td>1</td>\n",
       "      <td>1</td>\n",
       "      <td>5</td>\n",
       "      <td>0</td>\n",
       "      <td>1</td>\n",
       "      <td>14</td>\n",
       "      <td>14</td>\n",
       "    </tr>\n",
       "    <tr>\n",
       "      <th>4</th>\n",
       "      <td>GP</td>\n",
       "      <td>0</td>\n",
       "      <td>16</td>\n",
       "      <td>U</td>\n",
       "      <td>GT3</td>\n",
       "      <td>T</td>\n",
       "      <td>3</td>\n",
       "      <td>3</td>\n",
       "      <td>other</td>\n",
       "      <td>other</td>\n",
       "      <td>...</td>\n",
       "      <td>4</td>\n",
       "      <td>3</td>\n",
       "      <td>2</td>\n",
       "      <td>1</td>\n",
       "      <td>2</td>\n",
       "      <td>5</td>\n",
       "      <td>0</td>\n",
       "      <td>0</td>\n",
       "      <td>13</td>\n",
       "      <td>13</td>\n",
       "    </tr>\n",
       "    <tr>\n",
       "      <th>5</th>\n",
       "      <td>GP</td>\n",
       "      <td>1</td>\n",
       "      <td>16</td>\n",
       "      <td>U</td>\n",
       "      <td>LE3</td>\n",
       "      <td>T</td>\n",
       "      <td>4</td>\n",
       "      <td>3</td>\n",
       "      <td>services</td>\n",
       "      <td>other</td>\n",
       "      <td>...</td>\n",
       "      <td>5</td>\n",
       "      <td>4</td>\n",
       "      <td>2</td>\n",
       "      <td>1</td>\n",
       "      <td>2</td>\n",
       "      <td>5</td>\n",
       "      <td>6</td>\n",
       "      <td>1</td>\n",
       "      <td>12</td>\n",
       "      <td>13</td>\n",
       "    </tr>\n",
       "  </tbody>\n",
       "</table>\n",
       "<p>6 rows × 33 columns</p>\n",
       "</div>"
      ],
      "text/plain": [
       "  school  sex  age address famsize Pstatus  Medu  Fedu      Mjob      Fjob  \\\n",
       "0     GP    0   18       U     GT3       A     4     4   at_home   teacher   \n",
       "1     GP    0   17       U     GT3       T     1     1   at_home     other   \n",
       "2     GP    0   15       U     LE3       T     1     1   at_home     other   \n",
       "3     GP    0   15       U     GT3       T     4     2    health  services   \n",
       "4     GP    0   16       U     GT3       T     3     3     other     other   \n",
       "5     GP    1   16       U     LE3       T     4     3  services     other   \n",
       "\n",
       "   ... famrel freetime  goout  Dalc  Walc health absences G1  G2  G3  \n",
       "0  ...      4        3      4     1     1      3        4  0  11  11  \n",
       "1  ...      5        3      3     1     1      3        2  0  11  11  \n",
       "2  ...      4        3      2     2     3      3        6  1  13  12  \n",
       "3  ...      3        2      2     1     1      5        0  1  14  14  \n",
       "4  ...      4        3      2     1     2      5        0  0  13  13  \n",
       "5  ...      5        4      2     1     2      5        6  1  12  13  \n",
       "\n",
       "[6 rows x 33 columns]"
      ]
     },
     "execution_count": 18,
     "metadata": {},
     "output_type": "execute_result"
    }
   ],
   "source": [
    "dataset_orig.head(n=6)"
   ]
  },
  {
   "cell_type": "code",
   "execution_count": 19,
   "id": "d1b918d7",
   "metadata": {},
   "outputs": [],
   "source": [
    "#Instead of the following, use scikitlearn/OneHotEncoder so that you can save the encoder\n",
    "dataset_orig = pd.get_dummies(dataset_orig, columns=categorical_features)\n",
    "\n"
   ]
  },
  {
   "cell_type": "code",
   "execution_count": 20,
   "id": "69132490",
   "metadata": {},
   "outputs": [
    {
     "data": {
      "application/vnd.microsoft.datawrangler.viewer.v0+json": {
       "columns": [
        {
         "name": "index",
         "rawType": "int64",
         "type": "integer"
        },
        {
         "name": "sex",
         "rawType": "int64",
         "type": "integer"
        },
        {
         "name": "age",
         "rawType": "int64",
         "type": "integer"
        },
        {
         "name": "Medu",
         "rawType": "int64",
         "type": "integer"
        },
        {
         "name": "Fedu",
         "rawType": "int64",
         "type": "integer"
        },
        {
         "name": "traveltime",
         "rawType": "int64",
         "type": "integer"
        },
        {
         "name": "studytime",
         "rawType": "int64",
         "type": "integer"
        },
        {
         "name": "failures",
         "rawType": "int64",
         "type": "integer"
        },
        {
         "name": "famrel",
         "rawType": "int64",
         "type": "integer"
        },
        {
         "name": "freetime",
         "rawType": "int64",
         "type": "integer"
        },
        {
         "name": "goout",
         "rawType": "int64",
         "type": "integer"
        },
        {
         "name": "Dalc",
         "rawType": "int64",
         "type": "integer"
        },
        {
         "name": "Walc",
         "rawType": "int64",
         "type": "integer"
        },
        {
         "name": "health",
         "rawType": "int64",
         "type": "integer"
        },
        {
         "name": "absences",
         "rawType": "int64",
         "type": "integer"
        },
        {
         "name": "G1",
         "rawType": "int64",
         "type": "integer"
        },
        {
         "name": "G2",
         "rawType": "int64",
         "type": "integer"
        },
        {
         "name": "G3",
         "rawType": "int64",
         "type": "integer"
        },
        {
         "name": "school_GP",
         "rawType": "bool",
         "type": "boolean"
        },
        {
         "name": "school_MS",
         "rawType": "bool",
         "type": "boolean"
        },
        {
         "name": "address_R",
         "rawType": "bool",
         "type": "boolean"
        },
        {
         "name": "address_U",
         "rawType": "bool",
         "type": "boolean"
        },
        {
         "name": "famsize_GT3",
         "rawType": "bool",
         "type": "boolean"
        },
        {
         "name": "famsize_LE3",
         "rawType": "bool",
         "type": "boolean"
        },
        {
         "name": "Pstatus_A",
         "rawType": "bool",
         "type": "boolean"
        },
        {
         "name": "Pstatus_T",
         "rawType": "bool",
         "type": "boolean"
        },
        {
         "name": "Mjob_at_home",
         "rawType": "bool",
         "type": "boolean"
        },
        {
         "name": "Mjob_health",
         "rawType": "bool",
         "type": "boolean"
        },
        {
         "name": "Mjob_other",
         "rawType": "bool",
         "type": "boolean"
        },
        {
         "name": "Mjob_services",
         "rawType": "bool",
         "type": "boolean"
        },
        {
         "name": "Mjob_teacher",
         "rawType": "bool",
         "type": "boolean"
        },
        {
         "name": "Fjob_at_home",
         "rawType": "bool",
         "type": "boolean"
        },
        {
         "name": "Fjob_health",
         "rawType": "bool",
         "type": "boolean"
        },
        {
         "name": "Fjob_other",
         "rawType": "bool",
         "type": "boolean"
        },
        {
         "name": "Fjob_services",
         "rawType": "bool",
         "type": "boolean"
        },
        {
         "name": "Fjob_teacher",
         "rawType": "bool",
         "type": "boolean"
        },
        {
         "name": "reason_course",
         "rawType": "bool",
         "type": "boolean"
        },
        {
         "name": "reason_home",
         "rawType": "bool",
         "type": "boolean"
        },
        {
         "name": "reason_other",
         "rawType": "bool",
         "type": "boolean"
        },
        {
         "name": "reason_reputation",
         "rawType": "bool",
         "type": "boolean"
        },
        {
         "name": "guardian_father",
         "rawType": "bool",
         "type": "boolean"
        },
        {
         "name": "guardian_mother",
         "rawType": "bool",
         "type": "boolean"
        },
        {
         "name": "guardian_other",
         "rawType": "bool",
         "type": "boolean"
        },
        {
         "name": "schoolsup_no",
         "rawType": "bool",
         "type": "boolean"
        },
        {
         "name": "schoolsup_yes",
         "rawType": "bool",
         "type": "boolean"
        },
        {
         "name": "famsup_no",
         "rawType": "bool",
         "type": "boolean"
        },
        {
         "name": "famsup_yes",
         "rawType": "bool",
         "type": "boolean"
        },
        {
         "name": "paid_no",
         "rawType": "bool",
         "type": "boolean"
        },
        {
         "name": "paid_yes",
         "rawType": "bool",
         "type": "boolean"
        },
        {
         "name": "activities_no",
         "rawType": "bool",
         "type": "boolean"
        },
        {
         "name": "activities_yes",
         "rawType": "bool",
         "type": "boolean"
        },
        {
         "name": "nursery_no",
         "rawType": "bool",
         "type": "boolean"
        },
        {
         "name": "nursery_yes",
         "rawType": "bool",
         "type": "boolean"
        },
        {
         "name": "higher_no",
         "rawType": "bool",
         "type": "boolean"
        },
        {
         "name": "higher_yes",
         "rawType": "bool",
         "type": "boolean"
        },
        {
         "name": "internet_no",
         "rawType": "bool",
         "type": "boolean"
        },
        {
         "name": "internet_yes",
         "rawType": "bool",
         "type": "boolean"
        },
        {
         "name": "romantic_no",
         "rawType": "bool",
         "type": "boolean"
        },
        {
         "name": "romantic_yes",
         "rawType": "bool",
         "type": "boolean"
        }
       ],
       "ref": "96bf6c64-0cb8-40dc-ab2a-a6908f525ac2",
       "rows": [
        [
         "0",
         "0",
         "18",
         "4",
         "4",
         "2",
         "2",
         "0",
         "4",
         "3",
         "4",
         "1",
         "1",
         "3",
         "4",
         "0",
         "11",
         "11",
         "True",
         "False",
         "False",
         "True",
         "True",
         "False",
         "True",
         "False",
         "True",
         "False",
         "False",
         "False",
         "False",
         "False",
         "False",
         "False",
         "False",
         "True",
         "True",
         "False",
         "False",
         "False",
         "False",
         "True",
         "False",
         "False",
         "True",
         "True",
         "False",
         "True",
         "False",
         "True",
         "False",
         "False",
         "True",
         "False",
         "True",
         "True",
         "False",
         "True",
         "False"
        ],
        [
         "1",
         "0",
         "17",
         "1",
         "1",
         "1",
         "2",
         "0",
         "5",
         "3",
         "3",
         "1",
         "1",
         "3",
         "2",
         "0",
         "11",
         "11",
         "True",
         "False",
         "False",
         "True",
         "True",
         "False",
         "False",
         "True",
         "True",
         "False",
         "False",
         "False",
         "False",
         "False",
         "False",
         "True",
         "False",
         "False",
         "True",
         "False",
         "False",
         "False",
         "True",
         "False",
         "False",
         "True",
         "False",
         "False",
         "True",
         "True",
         "False",
         "True",
         "False",
         "True",
         "False",
         "False",
         "True",
         "False",
         "True",
         "True",
         "False"
        ],
        [
         "2",
         "0",
         "15",
         "1",
         "1",
         "1",
         "2",
         "0",
         "4",
         "3",
         "2",
         "2",
         "3",
         "3",
         "6",
         "1",
         "13",
         "12",
         "True",
         "False",
         "False",
         "True",
         "False",
         "True",
         "False",
         "True",
         "True",
         "False",
         "False",
         "False",
         "False",
         "False",
         "False",
         "True",
         "False",
         "False",
         "False",
         "False",
         "True",
         "False",
         "False",
         "True",
         "False",
         "False",
         "True",
         "True",
         "False",
         "True",
         "False",
         "True",
         "False",
         "False",
         "True",
         "False",
         "True",
         "False",
         "True",
         "True",
         "False"
        ],
        [
         "3",
         "0",
         "15",
         "4",
         "2",
         "1",
         "3",
         "0",
         "3",
         "2",
         "2",
         "1",
         "1",
         "5",
         "0",
         "1",
         "14",
         "14",
         "True",
         "False",
         "False",
         "True",
         "True",
         "False",
         "False",
         "True",
         "False",
         "True",
         "False",
         "False",
         "False",
         "False",
         "False",
         "False",
         "True",
         "False",
         "False",
         "True",
         "False",
         "False",
         "False",
         "True",
         "False",
         "True",
         "False",
         "False",
         "True",
         "True",
         "False",
         "False",
         "True",
         "False",
         "True",
         "False",
         "True",
         "False",
         "True",
         "False",
         "True"
        ],
        [
         "4",
         "0",
         "16",
         "3",
         "3",
         "1",
         "2",
         "0",
         "4",
         "3",
         "2",
         "1",
         "2",
         "5",
         "0",
         "0",
         "13",
         "13",
         "True",
         "False",
         "False",
         "True",
         "True",
         "False",
         "False",
         "True",
         "False",
         "False",
         "True",
         "False",
         "False",
         "False",
         "False",
         "True",
         "False",
         "False",
         "False",
         "True",
         "False",
         "False",
         "True",
         "False",
         "False",
         "True",
         "False",
         "False",
         "True",
         "True",
         "False",
         "True",
         "False",
         "False",
         "True",
         "False",
         "True",
         "True",
         "False",
         "True",
         "False"
        ],
        [
         "5",
         "1",
         "16",
         "4",
         "3",
         "1",
         "2",
         "0",
         "5",
         "4",
         "2",
         "1",
         "2",
         "5",
         "6",
         "1",
         "12",
         "13",
         "True",
         "False",
         "False",
         "True",
         "False",
         "True",
         "False",
         "True",
         "False",
         "False",
         "False",
         "True",
         "False",
         "False",
         "False",
         "True",
         "False",
         "False",
         "False",
         "False",
         "False",
         "True",
         "False",
         "True",
         "False",
         "True",
         "False",
         "False",
         "True",
         "True",
         "False",
         "False",
         "True",
         "False",
         "True",
         "False",
         "True",
         "False",
         "True",
         "True",
         "False"
        ]
       ],
       "shape": {
        "columns": 58,
        "rows": 6
       }
      },
      "text/html": [
       "<div>\n",
       "<style scoped>\n",
       "    .dataframe tbody tr th:only-of-type {\n",
       "        vertical-align: middle;\n",
       "    }\n",
       "\n",
       "    .dataframe tbody tr th {\n",
       "        vertical-align: top;\n",
       "    }\n",
       "\n",
       "    .dataframe thead th {\n",
       "        text-align: right;\n",
       "    }\n",
       "</style>\n",
       "<table border=\"1\" class=\"dataframe\">\n",
       "  <thead>\n",
       "    <tr style=\"text-align: right;\">\n",
       "      <th></th>\n",
       "      <th>sex</th>\n",
       "      <th>age</th>\n",
       "      <th>Medu</th>\n",
       "      <th>Fedu</th>\n",
       "      <th>traveltime</th>\n",
       "      <th>studytime</th>\n",
       "      <th>failures</th>\n",
       "      <th>famrel</th>\n",
       "      <th>freetime</th>\n",
       "      <th>goout</th>\n",
       "      <th>...</th>\n",
       "      <th>activities_no</th>\n",
       "      <th>activities_yes</th>\n",
       "      <th>nursery_no</th>\n",
       "      <th>nursery_yes</th>\n",
       "      <th>higher_no</th>\n",
       "      <th>higher_yes</th>\n",
       "      <th>internet_no</th>\n",
       "      <th>internet_yes</th>\n",
       "      <th>romantic_no</th>\n",
       "      <th>romantic_yes</th>\n",
       "    </tr>\n",
       "  </thead>\n",
       "  <tbody>\n",
       "    <tr>\n",
       "      <th>0</th>\n",
       "      <td>0</td>\n",
       "      <td>18</td>\n",
       "      <td>4</td>\n",
       "      <td>4</td>\n",
       "      <td>2</td>\n",
       "      <td>2</td>\n",
       "      <td>0</td>\n",
       "      <td>4</td>\n",
       "      <td>3</td>\n",
       "      <td>4</td>\n",
       "      <td>...</td>\n",
       "      <td>True</td>\n",
       "      <td>False</td>\n",
       "      <td>False</td>\n",
       "      <td>True</td>\n",
       "      <td>False</td>\n",
       "      <td>True</td>\n",
       "      <td>True</td>\n",
       "      <td>False</td>\n",
       "      <td>True</td>\n",
       "      <td>False</td>\n",
       "    </tr>\n",
       "    <tr>\n",
       "      <th>1</th>\n",
       "      <td>0</td>\n",
       "      <td>17</td>\n",
       "      <td>1</td>\n",
       "      <td>1</td>\n",
       "      <td>1</td>\n",
       "      <td>2</td>\n",
       "      <td>0</td>\n",
       "      <td>5</td>\n",
       "      <td>3</td>\n",
       "      <td>3</td>\n",
       "      <td>...</td>\n",
       "      <td>True</td>\n",
       "      <td>False</td>\n",
       "      <td>True</td>\n",
       "      <td>False</td>\n",
       "      <td>False</td>\n",
       "      <td>True</td>\n",
       "      <td>False</td>\n",
       "      <td>True</td>\n",
       "      <td>True</td>\n",
       "      <td>False</td>\n",
       "    </tr>\n",
       "    <tr>\n",
       "      <th>2</th>\n",
       "      <td>0</td>\n",
       "      <td>15</td>\n",
       "      <td>1</td>\n",
       "      <td>1</td>\n",
       "      <td>1</td>\n",
       "      <td>2</td>\n",
       "      <td>0</td>\n",
       "      <td>4</td>\n",
       "      <td>3</td>\n",
       "      <td>2</td>\n",
       "      <td>...</td>\n",
       "      <td>True</td>\n",
       "      <td>False</td>\n",
       "      <td>False</td>\n",
       "      <td>True</td>\n",
       "      <td>False</td>\n",
       "      <td>True</td>\n",
       "      <td>False</td>\n",
       "      <td>True</td>\n",
       "      <td>True</td>\n",
       "      <td>False</td>\n",
       "    </tr>\n",
       "    <tr>\n",
       "      <th>3</th>\n",
       "      <td>0</td>\n",
       "      <td>15</td>\n",
       "      <td>4</td>\n",
       "      <td>2</td>\n",
       "      <td>1</td>\n",
       "      <td>3</td>\n",
       "      <td>0</td>\n",
       "      <td>3</td>\n",
       "      <td>2</td>\n",
       "      <td>2</td>\n",
       "      <td>...</td>\n",
       "      <td>False</td>\n",
       "      <td>True</td>\n",
       "      <td>False</td>\n",
       "      <td>True</td>\n",
       "      <td>False</td>\n",
       "      <td>True</td>\n",
       "      <td>False</td>\n",
       "      <td>True</td>\n",
       "      <td>False</td>\n",
       "      <td>True</td>\n",
       "    </tr>\n",
       "    <tr>\n",
       "      <th>4</th>\n",
       "      <td>0</td>\n",
       "      <td>16</td>\n",
       "      <td>3</td>\n",
       "      <td>3</td>\n",
       "      <td>1</td>\n",
       "      <td>2</td>\n",
       "      <td>0</td>\n",
       "      <td>4</td>\n",
       "      <td>3</td>\n",
       "      <td>2</td>\n",
       "      <td>...</td>\n",
       "      <td>True</td>\n",
       "      <td>False</td>\n",
       "      <td>False</td>\n",
       "      <td>True</td>\n",
       "      <td>False</td>\n",
       "      <td>True</td>\n",
       "      <td>True</td>\n",
       "      <td>False</td>\n",
       "      <td>True</td>\n",
       "      <td>False</td>\n",
       "    </tr>\n",
       "    <tr>\n",
       "      <th>5</th>\n",
       "      <td>1</td>\n",
       "      <td>16</td>\n",
       "      <td>4</td>\n",
       "      <td>3</td>\n",
       "      <td>1</td>\n",
       "      <td>2</td>\n",
       "      <td>0</td>\n",
       "      <td>5</td>\n",
       "      <td>4</td>\n",
       "      <td>2</td>\n",
       "      <td>...</td>\n",
       "      <td>False</td>\n",
       "      <td>True</td>\n",
       "      <td>False</td>\n",
       "      <td>True</td>\n",
       "      <td>False</td>\n",
       "      <td>True</td>\n",
       "      <td>False</td>\n",
       "      <td>True</td>\n",
       "      <td>True</td>\n",
       "      <td>False</td>\n",
       "    </tr>\n",
       "  </tbody>\n",
       "</table>\n",
       "<p>6 rows × 58 columns</p>\n",
       "</div>"
      ],
      "text/plain": [
       "   sex  age  Medu  Fedu  traveltime  studytime  failures  famrel  freetime  \\\n",
       "0    0   18     4     4           2          2         0       4         3   \n",
       "1    0   17     1     1           1          2         0       5         3   \n",
       "2    0   15     1     1           1          2         0       4         3   \n",
       "3    0   15     4     2           1          3         0       3         2   \n",
       "4    0   16     3     3           1          2         0       4         3   \n",
       "5    1   16     4     3           1          2         0       5         4   \n",
       "\n",
       "   goout  ...  activities_no  activities_yes  nursery_no  nursery_yes  \\\n",
       "0      4  ...           True           False       False         True   \n",
       "1      3  ...           True           False        True        False   \n",
       "2      2  ...           True           False       False         True   \n",
       "3      2  ...          False            True       False         True   \n",
       "4      2  ...           True           False       False         True   \n",
       "5      2  ...          False            True       False         True   \n",
       "\n",
       "   higher_no  higher_yes  internet_no  internet_yes  romantic_no  romantic_yes  \n",
       "0      False        True         True         False         True         False  \n",
       "1      False        True        False          True         True         False  \n",
       "2      False        True        False          True         True         False  \n",
       "3      False        True        False          True        False          True  \n",
       "4      False        True         True         False         True         False  \n",
       "5      False        True        False          True         True         False  \n",
       "\n",
       "[6 rows x 58 columns]"
      ]
     },
     "execution_count": 20,
     "metadata": {},
     "output_type": "execute_result"
    }
   ],
   "source": [
    "dataset_orig.head(n=6)"
   ]
  },
  {
   "cell_type": "markdown",
   "id": "b3700a6d",
   "metadata": {},
   "source": [
    "2. Use `aif360.datasets.StandardDataset` class to create the aif360 dataset representing the `student-por.csv` data"
   ]
  },
  {
   "cell_type": "code",
   "execution_count": 21,
   "id": "458b3ff9",
   "metadata": {},
   "outputs": [],
   "source": [
    "import pandas as pd\n",
    "from aif360.datasets import StandardDataset\n",
    "# dataset_orig = load_preproc_data_adult()\n",
    "# dataset_orig = pd.read_csv(\"./bank-additional-full.csv\")\n",
    "\n",
    "protected_attribute_names = ['sex']\n",
    "privileged_classes = [[1]]  # Male as privileged class\n",
    "unprivileged_classes = [[0]]  # Female as unprivileged class\n",
    "label_names = 'G1'\n",
    "favorable_classes = [1]  # Positive outcome\n",
    "\n"
   ]
  },
  {
   "cell_type": "code",
   "execution_count": 22,
   "id": "2ec461ec",
   "metadata": {},
   "outputs": [],
   "source": [
    "dataset_orig = StandardDataset(\n",
    "    df=dataset_orig,\n",
    "    label_name=label_names,\n",
    "    favorable_classes=favorable_classes,\n",
    "    protected_attribute_names=protected_attribute_names,\n",
    "    privileged_classes=privileged_classes,\n",
    ")\n",
    "\n"
   ]
  },
  {
   "cell_type": "code",
   "execution_count": 24,
   "id": "802cc4e3",
   "metadata": {},
   "outputs": [
    {
     "name": "stderr",
     "output_type": "stream",
     "text": [
      "WARNING:root:No module named 'tensorflow': AdversarialDebiasing will be unavailable. To install, run:\n",
      "pip install 'aif360[AdversarialDebiasing]'\n",
      "WARNING:root:No module named 'tensorflow': AdversarialDebiasing will be unavailable. To install, run:\n",
      "pip install 'aif360[AdversarialDebiasing]'\n",
      "WARNING:root:No module named 'fairlearn': ExponentiatedGradientReduction will be unavailable. To install, run:\n",
      "pip install 'aif360[Reductions]'\n",
      "WARNING:root:No module named 'fairlearn': GridSearchReduction will be unavailable. To install, run:\n",
      "pip install 'aif360[Reductions]'\n",
      "WARNING:root:No module named 'inFairness': SenSeI and SenSR will be unavailable. To install, run:\n",
      "pip install 'aif360[inFairness]'\n",
      "WARNING:root:No module named 'fairlearn': GridSearchReduction will be unavailable. To install, run:\n",
      "pip install 'aif360[Reductions]'\n"
     ]
    }
   ],
   "source": [
    "from aif360.metrics import BinaryLabelDatasetMetric"
   ]
  },
  {
   "cell_type": "code",
   "execution_count": 25,
   "id": "b355f6d4",
   "metadata": {},
   "outputs": [
    {
     "ename": "AttributeError",
     "evalue": "'list' object has no attribute 'items'",
     "output_type": "error",
     "traceback": [
      "\u001b[0;31m---------------------------------------------------------------------------\u001b[0m",
      "\u001b[0;31mAttributeError\u001b[0m                            Traceback (most recent call last)",
      "Cell \u001b[0;32mIn[25], line 1\u001b[0m\n\u001b[0;32m----> 1\u001b[0m metric_orig_train \u001b[38;5;241m=\u001b[39m \u001b[43mBinaryLabelDatasetMetric\u001b[49m\u001b[43m(\u001b[49m\u001b[43mdataset_orig\u001b[49m\u001b[43m,\u001b[49m\u001b[43m \u001b[49m\n\u001b[1;32m      2\u001b[0m \u001b[43m                                             \u001b[49m\u001b[43munprivileged_groups\u001b[49m\u001b[38;5;241;43m=\u001b[39;49m\u001b[43munprivileged_classes\u001b[49m\u001b[43m,\u001b[49m\n\u001b[1;32m      3\u001b[0m \u001b[43m                                             \u001b[49m\u001b[43mprivileged_groups\u001b[49m\u001b[38;5;241;43m=\u001b[39;49m\u001b[43mprivileged_classes\u001b[49m\u001b[43m)\u001b[49m\n",
      "File \u001b[0;32m~/GITs/drb-eai-sum25/.venv/lib/python3.10/site-packages/aif360/metrics/binary_label_dataset_metric.py:34\u001b[0m, in \u001b[0;36mBinaryLabelDatasetMetric.__init__\u001b[0;34m(self, dataset, unprivileged_groups, privileged_groups)\u001b[0m\n\u001b[1;32m     31\u001b[0m     \u001b[38;5;28;01mraise\u001b[39;00m \u001b[38;5;167;01mTypeError\u001b[39;00m(\u001b[38;5;124m\"\u001b[39m\u001b[38;5;124m'\u001b[39m\u001b[38;5;124mdataset\u001b[39m\u001b[38;5;124m'\u001b[39m\u001b[38;5;124m should be a BinaryLabelDataset or a MulticlassLabelDataset\u001b[39m\u001b[38;5;124m\"\u001b[39m)\n\u001b[1;32m     33\u001b[0m \u001b[38;5;66;03m# sets self.dataset, self.unprivileged_groups, self.privileged_groups\u001b[39;00m\n\u001b[0;32m---> 34\u001b[0m \u001b[38;5;28;43msuper\u001b[39;49m\u001b[43m(\u001b[49m\u001b[43mBinaryLabelDatasetMetric\u001b[49m\u001b[43m,\u001b[49m\u001b[43m \u001b[49m\u001b[38;5;28;43mself\u001b[39;49m\u001b[43m)\u001b[49m\u001b[38;5;241;43m.\u001b[39;49m\u001b[38;5;21;43m__init__\u001b[39;49m\u001b[43m(\u001b[49m\u001b[43mdataset\u001b[49m\u001b[43m,\u001b[49m\n\u001b[1;32m     35\u001b[0m \u001b[43m    \u001b[49m\u001b[43munprivileged_groups\u001b[49m\u001b[38;5;241;43m=\u001b[39;49m\u001b[43munprivileged_groups\u001b[49m\u001b[43m,\u001b[49m\n\u001b[1;32m     36\u001b[0m \u001b[43m    \u001b[49m\u001b[43mprivileged_groups\u001b[49m\u001b[38;5;241;43m=\u001b[39;49m\u001b[43mprivileged_groups\u001b[49m\u001b[43m)\u001b[49m\n\u001b[1;32m     38\u001b[0m \u001b[38;5;28;01mif\u001b[39;00m \u001b[38;5;28misinstance\u001b[39m(dataset, MulticlassLabelDataset):\n\u001b[1;32m     39\u001b[0m     fav_label_value \u001b[38;5;241m=\u001b[39m \u001b[38;5;241m1.\u001b[39m\n",
      "File \u001b[0;32m~/GITs/drb-eai-sum25/.venv/lib/python3.10/site-packages/aif360/metrics/dataset_metric.py:48\u001b[0m, in \u001b[0;36mDatasetMetric.__init__\u001b[0;34m(self, dataset, unprivileged_groups, privileged_groups)\u001b[0m\n\u001b[1;32m     45\u001b[0m \u001b[38;5;28;01mif\u001b[39;00m \u001b[38;5;129;01mnot\u001b[39;00m \u001b[38;5;28mself\u001b[39m\u001b[38;5;241m.\u001b[39mprivileged_groups \u001b[38;5;129;01mor\u001b[39;00m \u001b[38;5;129;01mnot\u001b[39;00m \u001b[38;5;28mself\u001b[39m\u001b[38;5;241m.\u001b[39munprivileged_groups:\n\u001b[1;32m     46\u001b[0m     \u001b[38;5;28;01mreturn\u001b[39;00m\n\u001b[0;32m---> 48\u001b[0m priv_mask \u001b[38;5;241m=\u001b[39m \u001b[43mutils\u001b[49m\u001b[38;5;241;43m.\u001b[39;49m\u001b[43mcompute_boolean_conditioning_vector\u001b[49m\u001b[43m(\u001b[49m\n\u001b[1;32m     49\u001b[0m \u001b[43m    \u001b[49m\u001b[38;5;28;43mself\u001b[39;49m\u001b[38;5;241;43m.\u001b[39;49m\u001b[43mdataset\u001b[49m\u001b[38;5;241;43m.\u001b[39;49m\u001b[43mprotected_attributes\u001b[49m\u001b[43m,\u001b[49m\n\u001b[1;32m     50\u001b[0m \u001b[43m    \u001b[49m\u001b[38;5;28;43mself\u001b[39;49m\u001b[38;5;241;43m.\u001b[39;49m\u001b[43mdataset\u001b[49m\u001b[38;5;241;43m.\u001b[39;49m\u001b[43mprotected_attribute_names\u001b[49m\u001b[43m,\u001b[49m\u001b[43m \u001b[49m\u001b[38;5;28;43mself\u001b[39;49m\u001b[38;5;241;43m.\u001b[39;49m\u001b[43mprivileged_groups\u001b[49m\u001b[43m)\u001b[49m\n\u001b[1;32m     51\u001b[0m unpriv_mask \u001b[38;5;241m=\u001b[39m utils\u001b[38;5;241m.\u001b[39mcompute_boolean_conditioning_vector(\n\u001b[1;32m     52\u001b[0m     \u001b[38;5;28mself\u001b[39m\u001b[38;5;241m.\u001b[39mdataset\u001b[38;5;241m.\u001b[39mprotected_attributes,\n\u001b[1;32m     53\u001b[0m     \u001b[38;5;28mself\u001b[39m\u001b[38;5;241m.\u001b[39mdataset\u001b[38;5;241m.\u001b[39mprotected_attribute_names, \u001b[38;5;28mself\u001b[39m\u001b[38;5;241m.\u001b[39munprivileged_groups)\n\u001b[1;32m     54\u001b[0m \u001b[38;5;28;01mif\u001b[39;00m np\u001b[38;5;241m.\u001b[39many(np\u001b[38;5;241m.\u001b[39mlogical_and(priv_mask, unpriv_mask)):\n",
      "File \u001b[0;32m~/GITs/drb-eai-sum25/.venv/lib/python3.10/site-packages/aif360/metrics/utils.py:34\u001b[0m, in \u001b[0;36mcompute_boolean_conditioning_vector\u001b[0;34m(X, feature_names, condition)\u001b[0m\n\u001b[1;32m     32\u001b[0m \u001b[38;5;28;01mfor\u001b[39;00m group \u001b[38;5;129;01min\u001b[39;00m condition:\n\u001b[1;32m     33\u001b[0m     group_cond \u001b[38;5;241m=\u001b[39m np\u001b[38;5;241m.\u001b[39mones(X\u001b[38;5;241m.\u001b[39mshape[\u001b[38;5;241m0\u001b[39m], dtype\u001b[38;5;241m=\u001b[39m\u001b[38;5;28mbool\u001b[39m)\n\u001b[0;32m---> 34\u001b[0m     \u001b[38;5;28;01mfor\u001b[39;00m name, val \u001b[38;5;129;01min\u001b[39;00m \u001b[43mgroup\u001b[49m\u001b[38;5;241;43m.\u001b[39;49m\u001b[43mitems\u001b[49m():\n\u001b[1;32m     35\u001b[0m         index \u001b[38;5;241m=\u001b[39m feature_names\u001b[38;5;241m.\u001b[39mindex(name)\n\u001b[1;32m     36\u001b[0m         group_cond \u001b[38;5;241m=\u001b[39m np\u001b[38;5;241m.\u001b[39mlogical_and(group_cond, X[:, index] \u001b[38;5;241m==\u001b[39m val)\n",
      "\u001b[0;31mAttributeError\u001b[0m: 'list' object has no attribute 'items'"
     ]
    }
   ],
   "source": [
    "metric_orig_train = BinaryLabelDatasetMetric(dataset_orig, \n",
    "                                             unprivileged_groups=unprivileged_classes,\n",
    "                                             privileged_groups=privileged_classes)\n"
   ]
  },
  {
   "cell_type": "code",
   "execution_count": null,
   "id": "c6aa6e82",
   "metadata": {},
   "outputs": [],
   "source": [
    "logger.info(f'Measures of bias on the Original training dataset')\n",
    "logger.info(f\"Difference in mean outcomes between unprivileged and privileged groups = {metric_orig_train.mean_difference():.4f}\")\n",
    "logger.info(f'SPD = {metric_orig_train.statistical_parity_difference():.4f}')\n",
    "logger.info(f'DI = {metric_orig_train.disparate_impact():.4f}')"
   ]
  },
  {
   "cell_type": "markdown",
   "id": "822d3cb7",
   "metadata": {},
   "source": [
    "3. Do some fairness assessments on the dataset"
   ]
  },
  {
   "cell_type": "code",
   "execution_count": null,
   "id": "bf3dd767",
   "metadata": {},
   "outputs": [],
   "source": []
  },
  {
   "cell_type": "markdown",
   "id": "4c02fb2f",
   "metadata": {},
   "source": [
    "3. "
   ]
  }
 ],
 "metadata": {
  "kernelspec": {
   "display_name": ".venv",
   "language": "python",
   "name": "python3"
  },
  "language_info": {
   "codemirror_mode": {
    "name": "ipython",
    "version": 3
   },
   "file_extension": ".py",
   "mimetype": "text/x-python",
   "name": "python",
   "nbconvert_exporter": "python",
   "pygments_lexer": "ipython3",
   "version": "3.10.15"
  }
 },
 "nbformat": 4,
 "nbformat_minor": 5
}
